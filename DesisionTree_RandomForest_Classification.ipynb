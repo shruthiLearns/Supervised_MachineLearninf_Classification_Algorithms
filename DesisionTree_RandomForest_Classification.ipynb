{
 "cells": [
  {
   "cell_type": "markdown",
   "id": "17af9e51-51ba-4e56-94b2-fd305dd842ee",
   "metadata": {},
   "source": [
    "# <span style=\"color:BLUE\">__DECISION TREE AND RANDOM FOREST - CLASSIFICATION SUPERVISED ML MODELS__"
   ]
  },
  {
   "cell_type": "code",
   "execution_count": 8,
   "id": "7f5ce1a1-a98e-4080-aa54-35f6211991d1",
   "metadata": {},
   "outputs": [],
   "source": [
    "import pandas as pd\n",
    "import seaborn as sns\n",
    "import matplotlib.pyplot as plt\n",
    "\n",
    "from sklearn.model_selection import train_test_split\n",
    "\n",
    "## FOR DECISION TREE AND RANDOM FOREST(ensemble)\n",
    "from sklearn.tree import DecisionTreeClassifier\n",
    "from sklearn.ensemble import RandomForestClassifier"
   ]
  },
  {
   "cell_type": "markdown",
   "id": "8e4e746c-7ebc-4a77-803d-35eef615ea5c",
   "metadata": {},
   "source": [
    "### <span style=\"color:BLUE\"> ACCESSING THE DATA</SPAN>"
   ]
  },
  {
   "cell_type": "code",
   "execution_count": 14,
   "id": "9320f523-e9de-4f19-8fd7-13cb6151bf42",
   "metadata": {},
   "outputs": [
    {
     "name": "stdout",
     "output_type": "stream",
     "text": [
      "Number of records :  100\n",
      "Number of Columns :  3\n",
      "\n",
      "       JEEPRE   JEEMAINS  STATUS\n",
      "0  34.623660  78.024693       0\n",
      "1  30.286711  43.894998       0\n",
      "2  35.847409  72.902198       0\n",
      "3  60.182599  86.308552       1\n",
      "4  79.032736  75.344376       1\n"
     ]
    }
   ],
   "source": [
    "url = \"https://raw.githubusercontent.com/DataScience75/Batch-114/refs/heads/main/Students.csv\"\n",
    "data = pd.read_csv(url)\n",
    "print(\"Number of records : \",data.shape[0])\n",
    "print(\"Number of Columns : \",data.shape[1])\n",
    "print(\"\\n\",data.head())"
   ]
  },
  {
   "cell_type": "markdown",
   "id": "d67f33a2-f054-4ec0-929c-19963023f2c3",
   "metadata": {},
   "source": [
    "### <span style=\"color:BLUE\">SELECTING THE IMPORTANT FEATURES"
   ]
  },
  {
   "cell_type": "code",
   "execution_count": 5,
   "id": "c1b454f6-9c13-4387-bf49-d16d212d06bb",
   "metadata": {},
   "outputs": [],
   "source": [
    "X=data.iloc[:,0:2]\n",
    "y=data.iloc[:,2]"
   ]
  },
  {
   "cell_type": "markdown",
   "id": "6e5fafa1-3ae4-4d7e-a23e-b092cb18fdf5",
   "metadata": {},
   "source": [
    "### <span style=\"color:BLUE\">SAMPLING AND SPLITTING THE DATA INTO TRAINING AND TESTTING DATASET"
   ]
  },
  {
   "cell_type": "code",
   "execution_count": 6,
   "id": "e97fc83e-ddd2-414c-9b88-37eb487c6690",
   "metadata": {},
   "outputs": [],
   "source": [
    "X_train,X_test,y_train,y_test = train_test_split(X,y,test_size = 0.3)"
   ]
  },
  {
   "cell_type": "code",
   "execution_count": 7,
   "id": "4b2dbe0b-06c9-4b3e-9f3b-2c20955379c7",
   "metadata": {},
   "outputs": [
    {
     "name": "stdout",
     "output_type": "stream",
     "text": [
      "Shape of X_train :  (70, 2)\n",
      "Shape of y_train :  (70,)\n",
      "Shape of X_test :  (30, 2)\n",
      "Shape of y_test :  (30,)\n"
     ]
    }
   ],
   "source": [
    "print(\"Shape of X_train : \",X_train.shape)\n",
    "print(\"Shape of y_train : \",y_train.shape)\n",
    "print(\"Shape of X_test : \",X_test.shape)\n",
    "print(\"Shape of y_test : \",y_test.shape)"
   ]
  },
  {
   "cell_type": "markdown",
   "id": "0f2aaa23-35db-4d17-b917-dfa9f1ab5ebf",
   "metadata": {},
   "source": [
    "### <span style=\"color:BLUE\">CREATE A DECISION_TREE_CLASSIFIER & RANDOM_FOREST_CLASSIFIER MODELS"
   ]
  },
  {
   "cell_type": "code",
   "execution_count": 9,
   "id": "7d63c192-ca34-447e-8aa3-f18cde97dc44",
   "metadata": {},
   "outputs": [],
   "source": [
    "## FOR DECISION TREE AND RANDOM FOREST(ensemble)\n",
    "from sklearn.tree import DecisionTreeClassifier\n",
    "from sklearn.ensemble import RandomForestClassifier"
   ]
  },
  {
   "cell_type": "code",
   "execution_count": 11,
   "id": "6dbb5eed-1b95-488e-a18d-15385cfe8bdd",
   "metadata": {},
   "outputs": [],
   "source": [
    "decision_tree_model = DecisionTreeClassifier(criterion = 'entropy')\n",
    "random_forest_model = RandomForestClassifier(criterion = 'entropy')"
   ]
  },
  {
   "cell_type": "markdown",
   "id": "473b7eb2-eff6-49bd-b269-253254668cc4",
   "metadata": {},
   "source": [
    "### <span style=\"color:BLUE\">TRAINING THE DECISION TREE MODEL"
   ]
  },
  {
   "cell_type": "code",
   "execution_count": 15,
   "id": "d5659a3d-4bb9-48aa-b771-bddbb5384392",
   "metadata": {},
   "outputs": [
    {
     "name": "stdout",
     "output_type": "stream",
     "text": [
      "Training the Decision Tree Model is COMPLETE\n",
      "CPU times: total: 15.6 ms\n",
      "Wall time: 5.39 ms\n"
     ]
    }
   ],
   "source": [
    "%%time\n",
    "decision_tree_model.fit(X_train,y_train)\n",
    "print(\"Training the Decision Tree Model is COMPLETE\")"
   ]
  },
  {
   "cell_type": "markdown",
   "id": "098f7040-7904-4267-ac7f-5a05a9664737",
   "metadata": {},
   "source": [
    "### <span style=\"color:BLUE\">TRAINING THE RANDOM FOREST MODEL"
   ]
  },
  {
   "cell_type": "code",
   "execution_count": 16,
   "id": "b5c4f114-9a31-4d6a-89ee-dda3a28fe327",
   "metadata": {},
   "outputs": [
    {
     "name": "stdout",
     "output_type": "stream",
     "text": [
      "Training the Random Forest Model is COMPLETE\n",
      "CPU times: total: 281 ms\n",
      "Wall time: 282 ms\n"
     ]
    }
   ],
   "source": [
    "%%time\n",
    "random_forest_model.fit(X_train,y_train)\n",
    "print(\"Training the Random Forest Model is COMPLETE\")"
   ]
  },
  {
   "cell_type": "markdown",
   "id": "15c2f757-2014-41e5-afbd-993503f73ce0",
   "metadata": {},
   "source": [
    "# DECISION TREE"
   ]
  },
  {
   "cell_type": "markdown",
   "id": "cccbbbc6-60b8-4efd-993c-5dacfdfef90a",
   "metadata": {},
   "source": [
    "#### <span style=\"color:BLUE\">CALCULATING THE FEATURE IMPORTANCE (INFORMATION GAIN) FOR JEEPRE AND JEEMAIN<br>THIS IS DONE BY CALCULATING THE ENTROPY AND INTURN THE INFORMATION GAIN\n"
   ]
  },
  {
   "cell_type": "code",
   "execution_count": 24,
   "id": "f240ff29-7d40-4fc2-b8f8-247abedf0cf2",
   "metadata": {},
   "outputs": [
    {
     "data": {
      "text/plain": [
       "array([0.53940151, 0.46059849])"
      ]
     },
     "execution_count": 24,
     "metadata": {},
     "output_type": "execute_result"
    }
   ],
   "source": [
    "decision_tree_model.feature_importances_  ## JEEPRE has more importance than JEEMAIN"
   ]
  },
  {
   "cell_type": "markdown",
   "id": "bb3fc7fe-8ca1-42db-a2da-2811bda92874",
   "metadata": {},
   "source": [
    "#### <span style=\"color:BLUE\">PLOTTING THE FEATURE IMPORTANCES FOR DECISION TREE ATTRIBUTES"
   ]
  },
  {
   "cell_type": "code",
   "execution_count": 40,
   "id": "b96273bd-7cac-4ec2-b450-63e759aa8c1d",
   "metadata": {},
   "outputs": [
    {
     "data": {
      "image/png": "[encoded data removed]",
      "text/plain": [
       "<Figure size 640x480 with 1 Axes>"
      ]
     },
     "metadata": {},
     "output_type": "display_data"
    }
   ],
   "source": [
    "dtfi = pd.Series(decision_tree_model.feature_importances_,index = X_test.columns)\n",
    "sns.barplot(data=dtfi)\n",
    "plt.show()"
   ]
  },
  {
   "cell_type": "markdown",
   "id": "1dcf9868-75c3-4532-befa-8ba842ce4362",
   "metadata": {},
   "source": [
    "### <span style=\"color:BLUE\"> CALCULATE THE PREDICTED OUTPUT FOR DECISION TREE- (y_pred_decision_tree)"
   ]
  },
  {
   "cell_type": "code",
   "execution_count": 25,
   "id": "01843d2c-e6c8-49df-94b3-0074715ed7cc",
   "metadata": {},
   "outputs": [
    {
     "data": {
      "text/plain": [
       "array([0, 1, 0, 1, 0, 0, 1, 1, 1, 0, 1, 0, 1, 1, 1, 1, 1, 1, 0, 1, 1, 1,\n",
       "       0, 1, 1, 0, 0, 0, 1, 1], dtype=int64)"
      ]
     },
     "execution_count": 25,
     "metadata": {},
     "output_type": "execute_result"
    }
   ],
   "source": [
    "y_pred_decision_tree = decision_tree_model.predict(X_test)\n",
    "y_pred_decision_tree"
   ]
  },
  {
   "cell_type": "markdown",
   "id": "c34a2922-a9c8-4580-92f0-8f7679d493ba",
   "metadata": {},
   "source": [
    "### <span style=\"color:BLUE\">CALCULATING THE ACCURACY AND THE ERROR FOR DECISION TREE USING THE accuracy_score"
   ]
  },
  {
   "cell_type": "code",
   "execution_count": 26,
   "id": "fffe644a-12c9-4657-a89f-3772ad5ea6ef",
   "metadata": {},
   "outputs": [],
   "source": [
    "from sklearn.metrics import accuracy_score"
   ]
  },
  {
   "cell_type": "code",
   "execution_count": 27,
   "id": "df465d89-78c2-4ff0-99cf-6e47fbca618c",
   "metadata": {},
   "outputs": [
    {
     "name": "stdout",
     "output_type": "stream",
     "text": [
      "The Accuracy of the DECISION TREE model  90.0%\n"
     ]
    }
   ],
   "source": [
    "decision_tree_accuracy = accuracy_score(y_test,y_pred_decision_tree)\n",
    "print(f\"The Accuracy of the DECISION TREE model  {decision_tree_accuracy*100}%\")"
   ]
  },
  {
   "cell_type": "markdown",
   "id": "06e817f8-2faf-431b-8795-fa6be0b26c3d",
   "metadata": {},
   "source": [
    "# RANDOM FOREST"
   ]
  },
  {
   "cell_type": "markdown",
   "id": "86781fda-b0e6-4b1d-8fff-53e774f921bc",
   "metadata": {},
   "source": [
    "### <span style=\"color:BLUE\">CALCULATING THE FEATURE IMPORTANCE (INFORMATION GAIN) FOR JEEPRE AND JEEMAIN<br>THIS IS DONE BY CALCULATING THE ENTROPY AND IN-TURN THE INFORMATION GAIN"
   ]
  },
  {
   "cell_type": "code",
   "execution_count": 31,
   "id": "fa0eb8b7-717b-4fab-85c9-178a3052b24e",
   "metadata": {},
   "outputs": [
    {
     "data": {
      "text/plain": [
       "array([0.56086221, 0.43913779])"
      ]
     },
     "execution_count": 31,
     "metadata": {},
     "output_type": "execute_result"
    }
   ],
   "source": [
    "random_forest_model.feature_importances_ ## JEEPRE has more importance than JEEMAIN"
   ]
  },
  {
   "cell_type": "markdown",
   "id": "ec68ca9a-d3d8-41c6-8bbc-fe81ce5ffe84",
   "metadata": {},
   "source": [
    "#### <span style=\"color:BLUE\">PLOTTING THE FEATURE IMPORTANCES FOR RANDOM FOREST ATTRIBUTES"
   ]
  },
  {
   "cell_type": "code",
   "execution_count": 42,
   "id": "6940f7b6-2d71-431f-ba21-f35a182bd42a",
   "metadata": {},
   "outputs": [
    {
     "data": {
      "image/png": "[encoded data removed]",
      "text/plain": [
       "<Figure size 640x480 with 1 Axes>"
      ]
     },
     "metadata": {},
     "output_type": "display_data"
    }
   ],
   "source": [
    "RFfi = pd.Series(random_forest_model.feature_importances_,index = X_test.columns)\n",
    "sns.barplot(data=dtfi)\n",
    "plt.show()"
   ]
  },
  {
   "cell_type": "markdown",
   "id": "419adfff-04d1-4e9b-8ef3-bb070d2df7ba",
   "metadata": {},
   "source": [
    "### <span style=\"color:BLUE\"> CALCULATE THE PREDICTED OUTPUT FOR DECISION TREE- (y_pred_decision_tree)"
   ]
  },
  {
   "cell_type": "code",
   "execution_count": 32,
   "id": "55227a45-4c55-4214-9b23-e95543f0ca4b",
   "metadata": {},
   "outputs": [
    {
     "data": {
      "text/plain": [
       "array([0, 1, 0, 1, 0, 0, 1, 1, 1, 0, 1, 0, 1, 1, 1, 1, 1, 1, 0, 1, 1, 1,\n",
       "       0, 1, 1, 0, 0, 0, 1, 1], dtype=int64)"
      ]
     },
     "execution_count": 32,
     "metadata": {},
     "output_type": "execute_result"
    }
   ],
   "source": [
    "y_pred_random_forest = decision_tree_model.predict(X_test)\n",
    "y_pred_random_forest"
   ]
  },
  {
   "cell_type": "markdown",
   "id": "cf6df641-5757-4739-9f9d-604afcd73482",
   "metadata": {},
   "source": [
    "### <span style=\"color:BLUE\">CALCULATING THE ACCURACY AND THE ERROR FOR DECISION TREE USING THE accuracy_score"
   ]
  },
  {
   "cell_type": "code",
   "execution_count": 33,
   "id": "2ecc6c76-01d9-4b36-be26-fa01250db9f0",
   "metadata": {},
   "outputs": [],
   "source": [
    "from sklearn.metrics import accuracy_score"
   ]
  },
  {
   "cell_type": "code",
   "execution_count": 34,
   "id": "1be717fc-a64e-4ee1-869d-9b99901bf1bf",
   "metadata": {},
   "outputs": [
    {
     "name": "stdout",
     "output_type": "stream",
     "text": [
      "The Accuracy of the RANDOM FOREST model  90.0%\n"
     ]
    }
   ],
   "source": [
    "random_forest_accuracy = accuracy_score(y_test,y_pred_random_forest)\n",
    "print(f\"The Accuracy of the RANDOM FOREST model  {random_forest_accuracy*100}%\")"
   ]
  },
  {
   "cell_type": "code",
   "execution_count": null,
   "id": "37594eb6-c6c3-425d-ba08-e74e8e29e6c1",
   "metadata": {},
   "outputs": [],
   "source": []
  },
  {
   "cell_type": "code",
   "execution_count": null,
   "id": "88e3dc64-05c2-43f4-a03d-ea9d4462938e",
   "metadata": {},
   "outputs": [],
   "source": []
  }
 ],
 "metadata": {
  "kernelspec": {
   "display_name": "Python 3 (ipykernel)",
   "language": "python",
   "name": "python3"
  },
  "language_info": {
   "codemirror_mode": {
    "name": "ipython",
    "version": 3
   },
   "file_extension": ".py",
   "mimetype": "text/x-python",
   "name": "python",
   "nbconvert_exporter": "python",
   "pygments_lexer": "ipython3",
   "version": "3.12.7"
  }
 },
 "nbformat": 4,
 "nbformat_minor": 5
}

{
 "cells": [
  {
   "cell_type": "markdown",
   "id": "fe1be8c3-d897-4a3e-acb4-283222b3595a",
   "metadata": {},
   "source": [
    "# KNN CLASSIFICATION - SUPERVISED ML"
   ]
  },
  {
   "cell_type": "code",
   "execution_count": 71,
   "id": "5e683cd4-b5a4-4984-ad64-54ff3f39099a",
   "metadata": {},
   "outputs": [],
   "source": [
    "import pandas as pd\n",
    "import seaborn as sns\n",
    "import matplotlib.pyplot as plt\n",
    "\n",
    "from sklearn.model_selection import train_test_split\n",
    "\n",
    "# For KNN Classifier\n",
    "from sklearn.neighbors import KNeighborsClassifier\n",
    "from sklearn.metrics import accuracy_score  # To calculate the accuracy of the model"
   ]
  },
  {
   "cell_type": "markdown",
   "id": "bb6a2182-42a6-4e0e-8125-ad1de7bb7019",
   "metadata": {},
   "source": [
    "#### <span style=\"color:BLUE\"> ACCESSING THE DATA</SPAN>"
   ]
  },
  {
   "cell_type": "code",
   "execution_count": 72,
   "id": "fa5ef3bf-8906-4dab-932b-b87fd1600e35",
   "metadata": {},
   "outputs": [
    {
     "name": "stdout",
     "output_type": "stream",
     "text": [
      "Number of records :  100\n",
      "Number of Columns :  3\n",
      "\n",
      "-------------DATA-------------------\n",
      "\n",
      "       JEEPRE   JEEMAINS  STATUS\n",
      "0  34.623660  78.024693       0\n",
      "1  30.286711  43.894998       0\n",
      "2  35.847409  72.902198       0\n",
      "3  60.182599  86.308552       1\n",
      "4  79.032736  75.344376       1\n"
     ]
    }
   ],
   "source": [
    "url = \"https://raw.githubusercontent.com/DataScience75/Batch-114/refs/heads/main/Students.csv\"\n",
    "data = pd.read_csv(url)\n",
    "print(\"Number of records : \",data.shape[0])\n",
    "print(\"Number of Columns : \",data.shape[1])\n",
    "print(\"\\n-------------DATA-------------------\\n\\n\",data.head())"
   ]
  },
  {
   "cell_type": "markdown",
   "id": "545ddb08-cd35-49ef-be1a-2dae82ac7166",
   "metadata": {},
   "source": [
    "#### <span style=\"color:BLUE\">SELECTING THE IMPORTANT FEATURES"
   ]
  },
  {
   "cell_type": "code",
   "execution_count": 73,
   "id": "c5f1727e-c874-4417-af75-3fe2cea88542",
   "metadata": {},
   "outputs": [],
   "source": [
    "X=data.iloc[:,0:2]\n",
    "y=data.iloc[:,2]\n"
   ]
  },
  {
   "cell_type": "markdown",
   "id": "8e44c5d3-ffbb-40ad-a823-9575b16bfe13",
   "metadata": {},
   "source": [
    "#### <span style=\"color:BLUE\">SAMPLING AND SPLITTING THE DATA INTO TRAINING AND TESTTING DATASET"
   ]
  },
  {
   "cell_type": "code",
   "execution_count": 74,
   "id": "f0ea3cca-3ab1-4956-9e2c-c35e589c6af4",
   "metadata": {},
   "outputs": [],
   "source": [
    "X_train,X_test,y_train,y_test = train_test_split(X,y,test_size = 0.3)"
   ]
  },
  {
   "cell_type": "code",
   "execution_count": 75,
   "id": "158ef2eb-c907-408e-a948-c413acb36112",
   "metadata": {},
   "outputs": [
    {
     "name": "stdout",
     "output_type": "stream",
     "text": [
      "Shape of X_train :  (70, 2)\n",
      "Shape of y_train :  (70,)\n",
      "Shape of X_test :  (30, 2)\n",
      "Shape of y_test :  (30,)\n"
     ]
    }
   ],
   "source": [
    "print(\"Shape of X_train : \",X_train.shape)\n",
    "print(\"Shape of y_train : \",y_train.shape)\n",
    "print(\"Shape of X_test : \",X_test.shape)\n",
    "print(\"Shape of y_test : \",y_test.shape)"
   ]
  },
  {
   "cell_type": "markdown",
   "id": "fdd82888-8c58-41ad-8d6e-6fb34de727bd",
   "metadata": {},
   "source": [
    "### <span style=\"color:BLUE\">CREATE A KNN CLASSIFIER MODEL WITH 3 NEIGHBORS (K=3)"
   ]
  },
  {
   "cell_type": "code",
   "execution_count": 76,
   "id": "8de306c1-dd2d-4722-8973-626fa9b60304",
   "metadata": {},
   "outputs": [],
   "source": [
    "from sklearn.neighbors import KNeighborsClassifier"
   ]
  },
  {
   "cell_type": "code",
   "execution_count": 77,
   "id": "6e8a787d-d090-476f-9382-40a86cbab772",
   "metadata": {},
   "outputs": [],
   "source": [
    "knn_classifiy_model = KNeighborsClassifier(n_neighbors=3)"
   ]
  },
  {
   "cell_type": "markdown",
   "id": "cd451319-83dc-4547-89bf-304975ebee72",
   "metadata": {},
   "source": [
    "### <span style=\"color:BLUE\">TRAINIING THE KNN CLASSIFIER MODEL WITH TAINING DATA: (fit) the KNN CLASSIFIER"
   ]
  },
  {
   "cell_type": "code",
   "execution_count": 78,
   "id": "5cfe40d3-06eb-40b1-8ae2-e74aa56845eb",
   "metadata": {},
   "outputs": [
    {
     "name": "stdout",
     "output_type": "stream",
     "text": [
      "KNN Classification Model Training Done\n",
      "CPU times: total: 0 ns\n",
      "Wall time: 4 ms\n"
     ]
    }
   ],
   "source": [
    "%%time\n",
    "knn_classifiy_model_train = knn_classifiy_model.fit(X_train,y_train)\n",
    "print(\"KNN Classification Model Training Done\")"
   ]
  },
  {
   "cell_type": "markdown",
   "id": "8a9ab102-53b7-4e39-b701-d6621be7bbb2",
   "metadata": {},
   "source": [
    "### <span style=\"color:BLUE\"> CALCULATE THE PREDICTED PROBABILITY FOR BOTH THE CLASSES (0 & 1)"
   ]
  },
  {
   "cell_type": "code",
   "execution_count": 79,
   "id": "30bf4c2b-2cea-4859-b046-cc076078a9f3",
   "metadata": {},
   "outputs": [
    {
     "name": "stdout",
     "output_type": "stream",
     "text": [
      "<class 'numpy.ndarray'>\n",
      "Dimension of the array =  2\n",
      "Size of the array 30\n"
     ]
    },
    {
     "data": {
      "text/plain": [
       "array([[0.        , 1.        ],\n",
       "       [0.        , 1.        ],\n",
       "       [0.        , 1.        ],\n",
       "       [0.33333333, 0.66666667],\n",
       "       [0.        , 1.        ],\n",
       "       [0.33333333, 0.66666667],\n",
       "       [1.        , 0.        ],\n",
       "       [0.        , 1.        ],\n",
       "       [0.        , 1.        ],\n",
       "       [0.66666667, 0.33333333],\n",
       "       [0.        , 1.        ],\n",
       "       [1.        , 0.        ],\n",
       "       [0.33333333, 0.66666667],\n",
       "       [0.        , 1.        ],\n",
       "       [0.        , 1.        ],\n",
       "       [1.        , 0.        ],\n",
       "       [0.        , 1.        ],\n",
       "       [0.        , 1.        ],\n",
       "       [1.        , 0.        ],\n",
       "       [0.        , 1.        ],\n",
       "       [1.        , 0.        ],\n",
       "       [0.        , 1.        ],\n",
       "       [0.        , 1.        ],\n",
       "       [0.        , 1.        ],\n",
       "       [0.33333333, 0.66666667],\n",
       "       [0.        , 1.        ],\n",
       "       [1.        , 0.        ],\n",
       "       [0.66666667, 0.33333333],\n",
       "       [0.        , 1.        ],\n",
       "       [0.        , 1.        ]])"
      ]
     },
     "execution_count": 79,
     "metadata": {},
     "output_type": "execute_result"
    }
   ],
   "source": [
    "predicted_probability  = knn_classifiy_model_train.predict_proba(X_test)\n",
    "\n",
    "\n",
    "print(type(predicted_probability))\n",
    "print(\"Dimension of the array = \",predicted_probability.ndim)\n",
    "print(\"Size of the array\", len(predicted_probability)) # Should be the same as that of the X_test recor count 30\n",
    "predicted_probability"
   ]
  },
  {
   "cell_type": "markdown",
   "id": "84b363c3-eeef-458e-8a0b-5e921a6f7c02",
   "metadata": {},
   "source": [
    "### <span style=\"color:BLUE\"> CALCULATE THE PREDICTED OUTPUT - (y_pred)"
   ]
  },
  {
   "cell_type": "code",
   "execution_count": 80,
   "id": "6e7bba7d-c5d0-44d6-99f4-93edbbacf0e4",
   "metadata": {},
   "outputs": [],
   "source": [
    "y_pred = knn_classifiy_model_train.predict(X_test)"
   ]
  },
  {
   "cell_type": "code",
   "execution_count": 81,
   "id": "5f6fa8fa-ac2c-4276-84ab-6787bf23260e",
   "metadata": {},
   "outputs": [
    {
     "data": {
      "text/plain": [
       "array([1, 1, 1, 1, 1, 1, 0, 1, 1, 0, 1, 0, 1, 1, 1, 0, 1, 1, 0, 1, 0, 1,\n",
       "       1, 1, 1, 1, 0, 0, 1, 1], dtype=int64)"
      ]
     },
     "execution_count": 81,
     "metadata": {},
     "output_type": "execute_result"
    }
   ],
   "source": [
    "y_pred"
   ]
  },
  {
   "cell_type": "markdown",
   "id": "91a1eb31-2b21-4bc4-950a-77e958610e64",
   "metadata": {},
   "source": [
    "### <span style=\"color:BLUE\"> RESHAPING THE ACTUAL OUTPUT Y_TEST TO 1D ARRAY (.flatten())"
   ]
  },
  {
   "cell_type": "code",
   "execution_count": 82,
   "id": "bdbf3c18-8d70-4cd1-b45d-d7541cfcf6ca",
   "metadata": {},
   "outputs": [
    {
     "data": {
      "text/plain": [
       "array([1, 1, 1, 0, 1, 1, 0, 1, 1, 0, 1, 0, 1, 1, 1, 0, 1, 1, 0, 1, 0, 0,\n",
       "       1, 1, 0, 1, 0, 1, 1, 1], dtype=int64)"
      ]
     },
     "execution_count": 82,
     "metadata": {},
     "output_type": "execute_result"
    }
   ],
   "source": [
    "y_test_actual = y_test.values.reshape(1,-1).flatten()\n",
    "y_test_actual"
   ]
  },
  {
   "cell_type": "code",
   "execution_count": 83,
   "id": "81ea3586-5765-4a57-9d20-c762df6de945",
   "metadata": {},
   "outputs": [
    {
     "name": "stdout",
     "output_type": "stream",
     "text": [
      "Dimension of y_test_actual :  1\n",
      "Dimension of y_pred :  1\n"
     ]
    }
   ],
   "source": [
    "print(\"Dimension of y_test_actual : \",y_test_actual.ndim)\n",
    "print(\"Dimension of y_pred : \",y_pred.ndim)"
   ]
  },
  {
   "cell_type": "markdown",
   "id": "1310de63-8ffa-4a19-82bf-fd7faea5959e",
   "metadata": {},
   "source": [
    "### <span style=\"color:BLUE\"> CREATE A NEW DATAFRAME TO SEE THE ACTUAL OUTPUT AND PREDICTED OUTPUT"
   ]
  },
  {
   "cell_type": "code",
   "execution_count": 84,
   "id": "f95c8adc-8a70-44e9-88ca-5cf01062b142",
   "metadata": {},
   "outputs": [],
   "source": [
    "actualVsPredicted =  pd.DataFrame({\"Actual_output\":y_test_actual,\"Predicted_output\":y_pred})"
   ]
  },
  {
   "cell_type": "code",
   "execution_count": 85,
   "id": "ec0555e3-755a-4b42-a203-08ed359fccdc",
   "metadata": {},
   "outputs": [
    {
     "data": {
      "text/html": [
       "<div>\n",
       "<style scoped>\n",
       "    .dataframe tbody tr th:only-of-type {\n",
       "        vertical-align: middle;\n",
       "    }\n",
       "\n",
       "    .dataframe tbody tr th {\n",
       "        vertical-align: top;\n",
       "    }\n",
       "\n",
       "    .dataframe thead th {\n",
       "        text-align: right;\n",
       "    }\n",
       "</style>\n",
       "<table border=\"1\" class=\"dataframe\">\n",
       "  <thead>\n",
       "    <tr style=\"text-align: right;\">\n",
       "      <th></th>\n",
       "      <th>Actual_output</th>\n",
       "      <th>Predicted_output</th>\n",
       "    </tr>\n",
       "  </thead>\n",
       "  <tbody>\n",
       "    <tr>\n",
       "      <th>0</th>\n",
       "      <td>1</td>\n",
       "      <td>1</td>\n",
       "    </tr>\n",
       "    <tr>\n",
       "      <th>1</th>\n",
       "      <td>1</td>\n",
       "      <td>1</td>\n",
       "    </tr>\n",
       "    <tr>\n",
       "      <th>2</th>\n",
       "      <td>1</td>\n",
       "      <td>1</td>\n",
       "    </tr>\n",
       "    <tr>\n",
       "      <th>3</th>\n",
       "      <td>0</td>\n",
       "      <td>1</td>\n",
       "    </tr>\n",
       "    <tr>\n",
       "      <th>4</th>\n",
       "      <td>1</td>\n",
       "      <td>1</td>\n",
       "    </tr>\n",
       "  </tbody>\n",
       "</table>\n",
       "</div>"
      ],
      "text/plain": [
       "   Actual_output  Predicted_output\n",
       "0              1                 1\n",
       "1              1                 1\n",
       "2              1                 1\n",
       "3              0                 1\n",
       "4              1                 1"
      ]
     },
     "execution_count": 85,
     "metadata": {},
     "output_type": "execute_result"
    }
   ],
   "source": [
    "actualVsPredicted.head()"
   ]
  },
  {
   "cell_type": "markdown",
   "id": "8e929317-d8fd-47e7-af6f-f461b96a5498",
   "metadata": {},
   "source": [
    "### <span style=\"color:BLUE\"> CALCULATE AND PLOT CONFUSION MARTIX <br><br>TO EVALUATE THE PERFORMACE OF THE LOGISTIC REGRESSION CLASSIFICATION MODEL"
   ]
  },
  {
   "cell_type": "code",
   "execution_count": 86,
   "id": "0f21936d-30e0-45b4-a8a5-9bef4d4944d6",
   "metadata": {},
   "outputs": [],
   "source": [
    "from sklearn.metrics import confusion_matrix,ConfusionMatrixDisplay"
   ]
  },
  {
   "cell_type": "code",
   "execution_count": 87,
   "id": "44afa6c0-9e4c-4bd0-ba63-921c7a147556",
   "metadata": {},
   "outputs": [
    {
     "data": {
      "text/plain": [
       "array([[ 7,  3],\n",
       "       [ 1, 19]], dtype=int64)"
      ]
     },
     "execution_count": 87,
     "metadata": {},
     "output_type": "execute_result"
    }
   ],
   "source": [
    "confusionMatrix = confusion_matrix(y_test_actual,y_pred)\n",
    "confusionMatrix"
   ]
  },
  {
   "cell_type": "markdown",
   "id": "6839fb14-b73a-41ea-a5f3-26a6047eb80f",
   "metadata": {},
   "source": [
    "#### <span style=\"color:BLUE\">DISPLAYING THE CONFUSION MATRIX"
   ]
  },
  {
   "cell_type": "code",
   "execution_count": 88,
   "id": "c8d8d0d8-6b72-4b77-bbc4-fd95e66227cf",
   "metadata": {},
   "outputs": [
    {
     "data": {
      "text/plain": [
       "<sklearn.metrics._plot.confusion_matrix.ConfusionMatrixDisplay at 0x1e1f117d640>"
      ]
     },
     "execution_count": 88,
     "metadata": {},
     "output_type": "execute_result"
    },
    {
     "data": {
      "image/png": "[encoded data removed]",
      "text/plain": [
       "<Figure size 640x480 with 2 Axes>"
      ]
     },
     "metadata": {},
     "output_type": "display_data"
    }
   ],
   "source": [
    "conf_matrix_disp = ConfusionMatrixDisplay(confusionMatrix,display_labels=knn_classifiy_model.classes_)\n",
    "conf_matrix_disp.plot()"
   ]
  },
  {
   "cell_type": "markdown",
   "id": "416c1dc1-8a63-4cbe-a29b-b4a110f36316",
   "metadata": {},
   "source": [
    "#### <span style=\"color:BLUE\">MANUALLY CALCULATING THE ACCURACY AND THE ERROR USING THE DATA FROM CONFUSION MATRIX"
   ]
  },
  {
   "cell_type": "code",
   "execution_count": 89,
   "id": "9ab952a8-7510-426e-87ae-a5f4365cdddd",
   "metadata": {},
   "outputs": [
    {
     "name": "stdout",
     "output_type": "stream",
     "text": [
      "The Accuracy of the KNN Classification model with k = 3 is 83.33333333333334%\n",
      "The Error of the KNN Classification model with k = 3 is 16.666666666666664%\n"
     ]
    }
   ],
   "source": [
    "#ACCUARCY\n",
    "accuracy = (10+15)/(4+1+10+15)\n",
    "print(f\"The Accuracy of the KNN Classification model with k = 3 is {accuracy*100}%\")\n",
    "\n",
    "#ERROR\n",
    "error_rate = 1-accuracy\n",
    "print(f\"The Error of the KNN Classification model with k = 3 is {error_rate*100}%\")"
   ]
  },
  {
   "cell_type": "markdown",
   "id": "3fb29e5c-d888-40a8-b9c9-d6c39d661bd4",
   "metadata": {},
   "source": [
    "#### <span style=\"color:BLUE\">CALCULATING THE ACCURACY AND THE ERROR USING THE accuracy_score"
   ]
  },
  {
   "cell_type": "code",
   "execution_count": 90,
   "id": "13d14a9a-549f-4a32-9c4b-e8d8dff47a40",
   "metadata": {},
   "outputs": [
    {
     "name": "stdout",
     "output_type": "stream",
     "text": [
      "The Accuracy of the KNN Classification model with k = 3 is 86.66666666666667%\n",
      "The Error of the KNN Classification model with k = 3 is 13.33333333333333%\n"
     ]
    }
   ],
   "source": [
    "accuracyScore = accuracy_score(y_test,y_pred)\n",
    "print(f\"The Accuracy of the KNN Classification model with k = 3 is {accuracyScore*100}%\")\n",
    "\n",
    "#ERROR\n",
    "error_rate = 1-accuracyScore\n",
    "print(f\"The Error of the KNN Classification model with k = 3 is {error_rate*100}%\")"
   ]
  },
  {
   "cell_type": "markdown",
   "id": "aa0c659c-92ac-465c-a64a-7013da416dfb",
   "metadata": {},
   "source": [
    "# <span style=\"color:BLUE\">CHOOSING THE OPTIMUM K VALUE "
   ]
  },
  {
   "cell_type": "markdown",
   "id": "df843e58-98f6-4488-a872-6d2aef7dde1b",
   "metadata": {},
   "source": [
    "**<span style=\"color:BLUE\">1.Choose k from 1 to sqrt(len(X_test)) ie 0 - sqrt(30)<br>\n",
    "2.calculate the error for all those k values Using error method<br>\n",
    "3.Always choose ODD VALUE FOR K**"
   ]
  },
  {
   "cell_type": "code",
   "execution_count": 91,
   "id": "338ba00d-bb3b-40e0-94a0-39ebd4eed843",
   "metadata": {},
   "outputs": [],
   "source": [
    "from math import sqrt"
   ]
  },
  {
   "cell_type": "code",
   "execution_count": 92,
   "id": "4c9e95c9-a6b8-4d7c-91b0-711c5ace3a44",
   "metadata": {},
   "outputs": [
    {
     "data": {
      "text/plain": [
       "5"
      ]
     },
     "execution_count": 92,
     "metadata": {},
     "output_type": "execute_result"
    }
   ],
   "source": [
    "max_k = int(round(sqrt(len(X_test)),0))\n",
    "max_k"
   ]
  },
  {
   "cell_type": "markdown",
   "id": "647a2311-1778-4b56-b633-78e6c3163f0d",
   "metadata": {},
   "source": [
    "### <span style=\"color:BLUE\">CALCULATE THE VALIDATION ERRORS TO SELECT THE K VALUE"
   ]
  },
  {
   "cell_type": "code",
   "execution_count": 93,
   "id": "f9c30a62-414b-4291-b896-ff32be424423",
   "metadata": {},
   "outputs": [],
   "source": [
    "validation_error=[]\n",
    "for k in range(1,(max_k+1)):\n",
    "    knn_classifiy_model = KNeighborsClassifier(n_neighbors=k)\n",
    "    knn_classifiy_model_train = knn_classifiy_model.fit(X_train,y_train)\n",
    "    y_pred = knn_classifiy_model_train.predict(X_test)\n",
    "    accuracyScore = accuracy_score(y_test,y_pred)\n",
    "    error = 1 - accuracyScore\n",
    "    validation_error.append(accuracyScore)\n",
    "    \n"
   ]
  },
  {
   "cell_type": "code",
   "execution_count": 94,
   "id": "23804972-aa38-495a-8ce6-61c61074fc98",
   "metadata": {},
   "outputs": [
    {
     "name": "stdout",
     "output_type": "stream",
     "text": [
      "Validation error\n",
      "\n"
     ]
    },
    {
     "data": {
      "text/plain": [
       "[0.9666666666666667, 0.9333333333333333, 0.8666666666666667, 0.9, 0.9]"
      ]
     },
     "execution_count": 94,
     "metadata": {},
     "output_type": "execute_result"
    }
   ],
   "source": [
    "print(\"Validation error\\n\")\n",
    "validation_error"
   ]
  },
  {
   "cell_type": "markdown",
   "id": "c830b62b-edaa-45f9-b567-831dff542673",
   "metadata": {},
   "source": [
    "### <span style=\"color:BLUE\"> PLOTTING THE VALIDATION ERROR\n",
    "**1. Convert the validation_error list to a dataframe that is needed to plot a lineplot<br>\n",
    "2. Plot a line chart**"
   ]
  },
  {
   "cell_type": "code",
   "execution_count": 95,
   "id": "d1bbc141-3722-4d33-b1b8-912c2997124f",
   "metadata": {},
   "outputs": [
    {
     "data": {
      "text/html": [
       "<div>\n",
       "<style scoped>\n",
       "    .dataframe tbody tr th:only-of-type {\n",
       "        vertical-align: middle;\n",
       "    }\n",
       "\n",
       "    .dataframe tbody tr th {\n",
       "        vertical-align: top;\n",
       "    }\n",
       "\n",
       "    .dataframe thead th {\n",
       "        text-align: right;\n",
       "    }\n",
       "</style>\n",
       "<table border=\"1\" class=\"dataframe\">\n",
       "  <thead>\n",
       "    <tr style=\"text-align: right;\">\n",
       "      <th></th>\n",
       "      <th>K-value</th>\n",
       "      <th>validation_error</th>\n",
       "    </tr>\n",
       "  </thead>\n",
       "  <tbody>\n",
       "    <tr>\n",
       "      <th>0</th>\n",
       "      <td>1</td>\n",
       "      <td>0.966667</td>\n",
       "    </tr>\n",
       "    <tr>\n",
       "      <th>1</th>\n",
       "      <td>2</td>\n",
       "      <td>0.933333</td>\n",
       "    </tr>\n",
       "    <tr>\n",
       "      <th>2</th>\n",
       "      <td>3</td>\n",
       "      <td>0.866667</td>\n",
       "    </tr>\n",
       "    <tr>\n",
       "      <th>3</th>\n",
       "      <td>4</td>\n",
       "      <td>0.900000</td>\n",
       "    </tr>\n",
       "    <tr>\n",
       "      <th>4</th>\n",
       "      <td>5</td>\n",
       "      <td>0.900000</td>\n",
       "    </tr>\n",
       "  </tbody>\n",
       "</table>\n",
       "</div>"
      ],
      "text/plain": [
       "   K-value  validation_error\n",
       "0        1          0.966667\n",
       "1        2          0.933333\n",
       "2        3          0.866667\n",
       "3        4          0.900000\n",
       "4        5          0.900000"
      ]
     },
     "execution_count": 95,
     "metadata": {},
     "output_type": "execute_result"
    }
   ],
   "source": [
    "### Creating a Dataframe for Validation error\n",
    "\n",
    "validation_k_error_df = pd.DataFrame({\"K-value\":range(1,(max_k+1)),\"validation_error\":validation_error})\n",
    "validation_k_error_df.head()"
   ]
  },
  {
   "cell_type": "code",
   "execution_count": 96,
   "id": "6529977f-97e4-48dc-bad7-ba31f6120190",
   "metadata": {},
   "outputs": [
    {
     "data": {
      "image/png": "[encoded data removed]",
      "text/plain": [
       "<Figure size 640x480 with 1 Axes>"
      ]
     },
     "metadata": {},
     "output_type": "display_data"
    }
   ],
   "source": [
    "### Plotting Validation error line plot\n",
    "\n",
    "sns.lineplot(data =validation_k_error_df, x = 'K-value', y = 'validation_error' )\n",
    "plt.show()"
   ]
  },
  {
   "cell_type": "markdown",
   "id": "5de9eea2-d06b-489f-8dab-93c742f2d847",
   "metadata": {},
   "source": [
    "### <span style=\"color:BLUE\"> CONCULSION\n",
    "**<span style=\"color:green\">Since the error is minumum for k=3, the optimum k value selected should be 3**"
   ]
  },
  {
   "cell_type": "code",
   "execution_count": 97,
   "id": "f8243d1a-e5dc-4798-8841-e705046ecfab",
   "metadata": {},
   "outputs": [],
   "source": [
    "# "
   ]
  }
 ],
 "metadata": {
  "kernelspec": {
   "display_name": "Python 3 (ipykernel)",
   "language": "python",
   "name": "python3"
  },
  "language_info": {
   "codemirror_mode": {
    "name": "ipython",
    "version": 3
   },
   "file_extension": ".py",
   "mimetype": "text/x-python",
   "name": "python",
   "nbconvert_exporter": "python",
   "pygments_lexer": "ipython3",
   "version": "3.12.7"
  }
 },
 "nbformat": 4,
 "nbformat_minor": 5
}
